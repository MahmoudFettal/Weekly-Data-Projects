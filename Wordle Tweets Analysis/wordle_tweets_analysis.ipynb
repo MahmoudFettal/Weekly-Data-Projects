{
 "cells": [
  {
   "cell_type": "markdown",
   "metadata": {},
   "source": [
    "# __Wordle analysis__\n",
    "\n",
    "NB: This project is for fun! don't expect any meanfull information out of it XD.\n",
    "\n",
    "Long story short I found a dataset on kaggle about Wordle tweets (~20k daily tweets).\n",
    "\n",
    "Dataset link: https://www.kaggle.com/vora1011/wordletweets"
   ]
  },
  {
   "cell_type": "markdown",
   "metadata": {},
   "source": [
    "### __Imports__\n",
    "\n",
    "In order to perform the analysis needed, all that we need is re for regex, pandas, numpy and finally matplotlib.pyplot."
   ]
  },
  {
   "cell_type": "code",
   "execution_count": 1,
   "metadata": {},
   "outputs": [],
   "source": [
    "import re\n",
    "import pandas as pd\n",
    "import numpy as np\n",
    "\n",
    "from matplotlib import pyplot as plt"
   ]
  },
  {
   "cell_type": "markdown",
   "metadata": {},
   "source": [
    "### __Loading Data__\n",
    "\n",
    "To do so, we simply use pandas's read_csv function and give it the file of the dataSet (it is stored as csv file named \"WordleMegaData\" in the working directory).\n",
    "\n",
    "we use the head method to inspect the data, we find that there is 10 columns and they are as follows:\n",
    "\n",
    "*WordleID, ID, Created_At, Text, Source, UserID, Username, User_ScreenName, Location, Truncated*"
   ]
  },
  {
   "cell_type": "code",
   "execution_count": 2,
   "metadata": {},
   "outputs": [
    {
     "data": {
      "text/html": [
       "<div>\n",
       "<style scoped>\n",
       "    .dataframe tbody tr th:only-of-type {\n",
       "        vertical-align: middle;\n",
       "    }\n",
       "\n",
       "    .dataframe tbody tr th {\n",
       "        vertical-align: top;\n",
       "    }\n",
       "\n",
       "    .dataframe thead th {\n",
       "        text-align: right;\n",
       "    }\n",
       "</style>\n",
       "<table border=\"1\" class=\"dataframe\">\n",
       "  <thead>\n",
       "    <tr style=\"text-align: right;\">\n",
       "      <th></th>\n",
       "      <th>WordleID</th>\n",
       "      <th>ID</th>\n",
       "      <th>Created_At</th>\n",
       "      <th>Text</th>\n",
       "      <th>Source</th>\n",
       "      <th>UserID</th>\n",
       "      <th>Username</th>\n",
       "      <th>User_ScreenName</th>\n",
       "      <th>Location</th>\n",
       "      <th>Truncated</th>\n",
       "    </tr>\n",
       "  </thead>\n",
       "  <tbody>\n",
       "    <tr>\n",
       "      <th>0</th>\n",
       "      <td>254</td>\n",
       "      <td>1498447921448034305</td>\n",
       "      <td>2022-02-28 23:59:58+00:00</td>\n",
       "      <td>Wordle 254 3/6\\n\\n🟨🟨⬛⬛⬛\\n🟨⬛🟨⬛🟩\\n🟩🟩🟩🟩🟩</td>\n",
       "      <td>Twitter for iPhone</td>\n",
       "      <td>36816757</td>\n",
       "      <td>Leslie Brown</td>\n",
       "      <td>live_laugh_pray</td>\n",
       "      <td>Haida Gwaii</td>\n",
       "      <td>False</td>\n",
       "    </tr>\n",
       "    <tr>\n",
       "      <th>1</th>\n",
       "      <td>254</td>\n",
       "      <td>1498447918184996864</td>\n",
       "      <td>2022-02-28 23:59:58+00:00</td>\n",
       "      <td>Wordle 254 4/6\\n\\n⬛⬛⬛⬛🟩\\n⬛⬛⬛⬛🟩\\n⬛🟩⬛⬛🟩\\n🟩🟩🟩🟩🟩\\n...</td>\n",
       "      <td>Twitter for iPhone</td>\n",
       "      <td>482591014</td>\n",
       "      <td>Dylan Sobo</td>\n",
       "      <td>DaBolt727</td>\n",
       "      <td>Largo, FL / Bradenton|FGCU</td>\n",
       "      <td>False</td>\n",
       "    </tr>\n",
       "    <tr>\n",
       "      <th>2</th>\n",
       "      <td>254</td>\n",
       "      <td>1498447910173921282</td>\n",
       "      <td>2022-02-28 23:59:56+00:00</td>\n",
       "      <td>Wordle 254 3/6\\n\\n⬛⬛⬛⬛🟩\\n⬛⬛🟩⬛🟩\\n🟩🟩🟩🟩🟩</td>\n",
       "      <td>Twitter for iPhone</td>\n",
       "      <td>1397624255626584074</td>\n",
       "      <td>🖤</td>\n",
       "      <td>wengojos</td>\n",
       "      <td>23 • she/her • 🇵🇭🇺🇸</td>\n",
       "      <td>False</td>\n",
       "    </tr>\n",
       "    <tr>\n",
       "      <th>3</th>\n",
       "      <td>254</td>\n",
       "      <td>1498447901797801989</td>\n",
       "      <td>2022-02-28 23:59:54+00:00</td>\n",
       "      <td>Wordle 254 3/6\\n\\n⬛⬛⬛🟨⬛\\n⬛🟨⬛⬛🟩\\n🟩🟩🟩🟩🟩</td>\n",
       "      <td>Twitter for iPhone</td>\n",
       "      <td>1255905442548473856</td>\n",
       "      <td>Dustin Waters</td>\n",
       "      <td>DustinWaters12</td>\n",
       "      <td>NaN</td>\n",
       "      <td>False</td>\n",
       "    </tr>\n",
       "    <tr>\n",
       "      <th>4</th>\n",
       "      <td>254</td>\n",
       "      <td>1498447896911527938</td>\n",
       "      <td>2022-02-28 23:59:53+00:00</td>\n",
       "      <td>Wordle 254 3/6\\n\\n⬛🟨⬛⬛⬛\\n🟩🟩🟩⬛🟩\\n🟩🟩🟩🟩🟩</td>\n",
       "      <td>Twitter for iPhone</td>\n",
       "      <td>252893719</td>\n",
       "      <td>R. Colin</td>\n",
       "      <td>rollin_fatty</td>\n",
       "      <td>Richmond, VA</td>\n",
       "      <td>False</td>\n",
       "    </tr>\n",
       "  </tbody>\n",
       "</table>\n",
       "</div>"
      ],
      "text/plain": [
       "   WordleID                   ID                 Created_At  \\\n",
       "0       254  1498447921448034305  2022-02-28 23:59:58+00:00   \n",
       "1       254  1498447918184996864  2022-02-28 23:59:58+00:00   \n",
       "2       254  1498447910173921282  2022-02-28 23:59:56+00:00   \n",
       "3       254  1498447901797801989  2022-02-28 23:59:54+00:00   \n",
       "4       254  1498447896911527938  2022-02-28 23:59:53+00:00   \n",
       "\n",
       "                                                Text              Source  \\\n",
       "0              Wordle 254 3/6\\n\\n🟨🟨⬛⬛⬛\\n🟨⬛🟨⬛🟩\\n🟩🟩🟩🟩🟩  Twitter for iPhone   \n",
       "1  Wordle 254 4/6\\n\\n⬛⬛⬛⬛🟩\\n⬛⬛⬛⬛🟩\\n⬛🟩⬛⬛🟩\\n🟩🟩🟩🟩🟩\\n...  Twitter for iPhone   \n",
       "2              Wordle 254 3/6\\n\\n⬛⬛⬛⬛🟩\\n⬛⬛🟩⬛🟩\\n🟩🟩🟩🟩🟩  Twitter for iPhone   \n",
       "3              Wordle 254 3/6\\n\\n⬛⬛⬛🟨⬛\\n⬛🟨⬛⬛🟩\\n🟩🟩🟩🟩🟩  Twitter for iPhone   \n",
       "4              Wordle 254 3/6\\n\\n⬛🟨⬛⬛⬛\\n🟩🟩🟩⬛🟩\\n🟩🟩🟩🟩🟩  Twitter for iPhone   \n",
       "\n",
       "                UserID       Username  User_ScreenName  \\\n",
       "0             36816757   Leslie Brown  live_laugh_pray   \n",
       "1            482591014     Dylan Sobo        DaBolt727   \n",
       "2  1397624255626584074              🖤         wengojos   \n",
       "3  1255905442548473856  Dustin Waters   DustinWaters12   \n",
       "4            252893719       R. Colin     rollin_fatty   \n",
       "\n",
       "                     Location  Truncated  \n",
       "0                 Haida Gwaii      False  \n",
       "1  Largo, FL / Bradenton|FGCU      False  \n",
       "2         23 • she/her • 🇵🇭🇺🇸      False  \n",
       "3                         NaN      False  \n",
       "4                Richmond, VA      False  "
      ]
     },
     "execution_count": 2,
     "metadata": {},
     "output_type": "execute_result"
    }
   ],
   "source": [
    "wordle_data = pd.read_csv(\"WordleMegaData.csv\")\n",
    "\n",
    "wordle_data.head()"
   ]
  },
  {
   "cell_type": "markdown",
   "metadata": {},
   "source": [
    "## __Analysis__\n",
    "\n",
    "#### __Puzzles count__\n",
    "The data that we have concerns 10 daily puzzles from 254 to 263."
   ]
  },
  {
   "cell_type": "code",
   "execution_count": 3,
   "metadata": {},
   "outputs": [
    {
     "name": "stdout",
     "output_type": "stream",
     "text": [
      "The data is for 10 days\n",
      "the wordles in questions have the ID: 254 255 256 257 258 259 260 261 262 263\n"
     ]
    }
   ],
   "source": [
    "unique_wordle = wordle_data[\"WordleID\"].unique()\n",
    "\n",
    "print(f\"The data is for {len(unique_wordle)} days\")\n",
    "print(f\"the wordles in questions have the ID: {' '.join(list(map(str, list(unique_wordle))))}\")\n"
   ]
  },
  {
   "cell_type": "markdown",
   "metadata": {},
   "source": [
    "#### __Unique users__\n",
    "We first drop most of the columns and only keep *WordleID, Text, UserID* (Not necessary XD).\n",
    "\n",
    "we use the value_counts on the DataFrame to find the users with the highst number of tweets.\n",
    "\n",
    "(Weirdly enough we have 10 puzzles and the first user have 24 tweets XD)"
   ]
  },
  {
   "cell_type": "code",
   "execution_count": 4,
   "metadata": {},
   "outputs": [
    {
     "data": {
      "text/plain": [
       "UserID               Username            User_ScreenName\n",
       "33133896             🌙~starbuck1127~🌙    starbuck1127       24\n",
       "1481455108558893060  @SussexWordle       sussexwordle       22\n",
       "29471238             steve               bagshaw2112        17\n",
       "53727542             boa noite           taisatbm           15\n",
       "87145454             kibar feyzo 🌈       emreb7_            14\n",
       "1491928048840720444  NYT Wordle          nytwordle          14\n",
       "15061519             Allyson M. W. Dyar  Allyson13          13\n",
       "1426147754           Eugene              Eugene646          13\n",
       "1497251207978487810  Michael Stire       MichaelStire70     12\n",
       "22614685             Sue Henderson 💙     Hathorsdaughter    12\n",
       "dtype: int64"
      ]
     },
     "execution_count": 4,
     "metadata": {},
     "output_type": "execute_result"
    }
   ],
   "source": [
    "wordle_df = wordle_data[[\"WordleID\", \"Text\", \"UserID\"]].copy()\n",
    "\n",
    "wordle_data[[\"UserID\", \"Username\", \"User_ScreenName\"]].value_counts()[:10]"
   ]
  },
  {
   "cell_type": "markdown",
   "metadata": {},
   "source": [
    "### __Get the scores__\n",
    "To do so we will use a simple regex since the score always starts with *Wordle NNN N/6* we are only interested in the \"N/6\" part.\n",
    "\n",
    "If the score was \"X/6\" it means the player failed, else the user won and N represents the number of tries."
   ]
  },
  {
   "cell_type": "code",
   "execution_count": 5,
   "metadata": {},
   "outputs": [
    {
     "data": {
      "text/html": [
       "<div>\n",
       "<style scoped>\n",
       "    .dataframe tbody tr th:only-of-type {\n",
       "        vertical-align: middle;\n",
       "    }\n",
       "\n",
       "    .dataframe tbody tr th {\n",
       "        vertical-align: top;\n",
       "    }\n",
       "\n",
       "    .dataframe thead th {\n",
       "        text-align: right;\n",
       "    }\n",
       "</style>\n",
       "<table border=\"1\" class=\"dataframe\">\n",
       "  <thead>\n",
       "    <tr style=\"text-align: right;\">\n",
       "      <th></th>\n",
       "      <th>WordleID</th>\n",
       "      <th>UserID</th>\n",
       "      <th>Score</th>\n",
       "    </tr>\n",
       "  </thead>\n",
       "  <tbody>\n",
       "    <tr>\n",
       "      <th>0</th>\n",
       "      <td>254</td>\n",
       "      <td>36816757</td>\n",
       "      <td>3</td>\n",
       "    </tr>\n",
       "    <tr>\n",
       "      <th>1</th>\n",
       "      <td>254</td>\n",
       "      <td>482591014</td>\n",
       "      <td>4</td>\n",
       "    </tr>\n",
       "    <tr>\n",
       "      <th>2</th>\n",
       "      <td>254</td>\n",
       "      <td>1397624255626584074</td>\n",
       "      <td>3</td>\n",
       "    </tr>\n",
       "    <tr>\n",
       "      <th>3</th>\n",
       "      <td>254</td>\n",
       "      <td>1255905442548473856</td>\n",
       "      <td>3</td>\n",
       "    </tr>\n",
       "    <tr>\n",
       "      <th>4</th>\n",
       "      <td>254</td>\n",
       "      <td>252893719</td>\n",
       "      <td>3</td>\n",
       "    </tr>\n",
       "  </tbody>\n",
       "</table>\n",
       "</div>"
      ],
      "text/plain": [
       "   WordleID               UserID  Score\n",
       "0       254             36816757      3\n",
       "1       254            482591014      4\n",
       "2       254  1397624255626584074      3\n",
       "3       254  1255905442548473856      3\n",
       "4       254            252893719      3"
      ]
     },
     "execution_count": 5,
     "metadata": {},
     "output_type": "execute_result"
    }
   ],
   "source": [
    "regex = re.compile(\"[\\\\d,X]\\/6\")\n",
    "def get_score(text):\n",
    "    match = regex.findall(text)\n",
    "\n",
    "    try:\n",
    "        return int(match[0][0])\n",
    "    except ValueError:\n",
    "        return -1 if match[0][0] == \"X\" else 0\n",
    "    except IndexError:\n",
    "        return 0\n",
    "\n",
    "\n",
    "wordle_df[\"Score\"] = wordle_df[\"Text\"].apply(lambda row: get_score(row))\n",
    "wordle_df = wordle_df.drop(\"Text\", axis=1)\n",
    "wordle_df.head()"
   ]
  },
  {
   "cell_type": "code",
   "execution_count": 6,
   "metadata": {},
   "outputs": [
    {
     "data": {
      "text/html": [
       "<div>\n",
       "<style scoped>\n",
       "    .dataframe tbody tr th:only-of-type {\n",
       "        vertical-align: middle;\n",
       "    }\n",
       "\n",
       "    .dataframe tbody tr th {\n",
       "        vertical-align: top;\n",
       "    }\n",
       "\n",
       "    .dataframe thead th {\n",
       "        text-align: right;\n",
       "    }\n",
       "</style>\n",
       "<table border=\"1\" class=\"dataframe\">\n",
       "  <thead>\n",
       "    <tr style=\"text-align: right;\">\n",
       "      <th></th>\n",
       "      <th>WordleID</th>\n",
       "      <th>Score</th>\n",
       "      <th>UserID</th>\n",
       "    </tr>\n",
       "  </thead>\n",
       "  <tbody>\n",
       "    <tr>\n",
       "      <th>0</th>\n",
       "      <td>254</td>\n",
       "      <td>-1</td>\n",
       "      <td>153</td>\n",
       "    </tr>\n",
       "    <tr>\n",
       "      <th>1</th>\n",
       "      <td>254</td>\n",
       "      <td>1</td>\n",
       "      <td>378</td>\n",
       "    </tr>\n",
       "    <tr>\n",
       "      <th>2</th>\n",
       "      <td>254</td>\n",
       "      <td>2</td>\n",
       "      <td>1913</td>\n",
       "    </tr>\n",
       "    <tr>\n",
       "      <th>3</th>\n",
       "      <td>254</td>\n",
       "      <td>3</td>\n",
       "      <td>5925</td>\n",
       "    </tr>\n",
       "    <tr>\n",
       "      <th>4</th>\n",
       "      <td>254</td>\n",
       "      <td>4</td>\n",
       "      <td>6668</td>\n",
       "    </tr>\n",
       "  </tbody>\n",
       "</table>\n",
       "</div>"
      ],
      "text/plain": [
       "   WordleID  Score  UserID\n",
       "0       254     -1     153\n",
       "1       254      1     378\n",
       "2       254      2    1913\n",
       "3       254      3    5925\n",
       "4       254      4    6668"
      ]
     },
     "execution_count": 6,
     "metadata": {},
     "output_type": "execute_result"
    }
   ],
   "source": [
    "# we filter data to remove the score 0 because it means there was no match for a wordle score\n",
    "\n",
    "wordle_df = wordle_df[wordle_df[\"Score\"].isin([-1,1,2,3,4,5,6])]\n",
    "\n",
    "# we group the data using WordlID and Score\n",
    "daily_scores = wordle_df.groupby([\"WordleID\", \"Score\"]).count().reset_index()\n",
    "daily_scores.head()"
   ]
  },
  {
   "cell_type": "code",
   "execution_count": 7,
   "metadata": {},
   "outputs": [],
   "source": [
    "unique_wordle = list(unique_wordle)\n",
    "scores = [[daily_scores[\"UserID\"][i+j] for i in range(len(unique_wordle))]for j in range(7)]\n",
    "scores.append(scores.pop(0))"
   ]
  },
  {
   "cell_type": "markdown",
   "metadata": {},
   "source": [
    "### __Final results__\n",
    "We plot the result using a bar plot that group the puzzles and scores.\n",
    "\n",
    "We notice that:\n",
    "- Wordle 258 was the hardest puzzle in this sample since the largest score failure.\n",
    "- The most answered puzzle was 254 since it was the least failed by the users.\n",
    "- Wordle 257 presents weird results since either players got it at the first try or they failed."
   ]
  },
  {
   "cell_type": "code",
   "execution_count": 8,
   "metadata": {},
   "outputs": [
    {
     "data": {
      "image/png": "[encoded data removed]",
      "text/plain": [
       "<Figure size 1800x504 with 1 Axes>"
      ]
     },
     "metadata": {
      "needs_background": "light"
     },
     "output_type": "display_data"
    }
   ],
   "source": [
    "plt.figure(figsize=[25, 7])\n",
    "colors = [\"#001219\", \"#005f73\", \"#0a9396\", \"#94d2bd\", \"#e9d8a6\", \"#ee9b00\", \"#ae2012\"]\n",
    "x = np.arange(len(unique_wordle))\n",
    "\n",
    "for i, value in enumerate(scores):\n",
    "    plt.bar(x + .125*i, value, color = colors[i], width = 0.125)\n",
    "\n",
    "plt.legend([1,2,3,4,5,6,\"Failed\"])\n",
    "plt.xticks([i + .375 for i in range(len(unique_wordle))], [f'Wordle {i}' for i in unique_wordle])\n",
    "plt.title(\"Bar plot reresenting the scores of twitter user for the daily wordle\")\n",
    "plt.show()"
   ]
  }
 ],
 "metadata": {
  "interpreter": {
   "hash": "a2d6101b54ef48b9eee3411865f813dc8a04aa1f1de8222d35159b4321ac3d2f"
  },
  "kernelspec": {
   "display_name": "Python 3",
   "language": "python",
   "name": "python3"
  },
  "language_info": {
   "codemirror_mode": {
    "name": "ipython",
    "version": 3
   },
   "file_extension": ".py",
   "mimetype": "text/x-python",
   "name": "python",
   "nbconvert_exporter": "python",
   "pygments_lexer": "ipython3",
   "version": "3.8.6"
  }
 },
 "nbformat": 4,
 "nbformat_minor": 2
}
